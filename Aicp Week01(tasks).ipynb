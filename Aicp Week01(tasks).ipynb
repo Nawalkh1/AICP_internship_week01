{
  "metadata": {
    "kernelspec": {
      "name": "python",
      "display_name": "Python (Pyodide)",
      "language": "python"
    },
    "language_info": {
      "codemirror_mode": {
        "name": "python",
        "version": 3
      },
      "file_extension": ".py",
      "mimetype": "text/x-python",
      "name": "python",
      "nbconvert_exporter": "python",
      "pygments_lexer": "ipython3",
      "version": "3.8"
    }
  },
  "nbformat_minor": 4,
  "nbformat": 4,
  "cells": [
    {
      "cell_type": "code",
      "source": "#task 01\n#Write a NumPy program to create an array of all even integers from 30 to 70\n#using import of numpy\nimport numpy as np ",
      "metadata": {
        "trusted": true
      },
      "outputs": [],
      "execution_count": 1
    },
    {
      "cell_type": "code",
      "source": "#Creating an array of even integers \n\neven_array= np.arange (30,71,2) # np.arange - here generate an array starting from 30 to 70 with a step of 2\n",
      "metadata": {
        "trusted": true
      },
      "outputs": [],
      "execution_count": 2
    },
    {
      "cell_type": "code",
      "source": "#printing the result\nprint (\"Array f even inetegers fron 30 to 70:\")\nprint(even_array)",
      "metadata": {
        "trusted": true
      },
      "outputs": [
        {
          "name": "stdout",
          "text": "Array f even inetegers fron 30 to 70:\n[30 32 34 36 38 40 42 44 46 48 50 52 54 56 58 60 62 64 66 68 70]\n",
          "output_type": "stream"
        }
      ],
      "execution_count": 3
    },
    {
      "cell_type": "code",
      "source": "#task 02 \n#Write a NumPy program to generate an array of 15 random numbers from a standard normal distribution.\n# using import \nimport numpy as np ",
      "metadata": {
        "trusted": true
      },
      "outputs": [],
      "execution_count": 4
    },
    {
      "cell_type": "code",
      "source": "#generating an array of 15 randon numbers \nrandom_array = np.random.randn(15)",
      "metadata": {
        "trusted": true
      },
      "outputs": [],
      "execution_count": 5
    },
    {
      "cell_type": "code",
      "source": "print (\"Array of 15 random numbers from standard normal distribution : \" )\nprint (random_array)",
      "metadata": {
        "trusted": true
      },
      "outputs": [
        {
          "name": "stdout",
          "text": "Array of 15 random numbers from standard normal distribution : \n[-0.34713381 -0.88288981 -0.13481945  1.38006309 -0.01506124 -0.41859339\n  0.94804435  0.58473993  0.80298419  0.38358222  1.11094296  1.03907043\n  0.96535314  1.23463669  0.53256327]\n",
          "output_type": "stream"
        }
      ],
      "execution_count": 6
    },
    {
      "cell_type": "code",
      "source": "#task 03 \n#How to compute the cross-product of two matrices in NumPy?\n# first using import \nimport numpy as np ",
      "metadata": {
        "trusted": true
      },
      "outputs": [],
      "execution_count": 7
    },
    {
      "cell_type": "code",
      "source": "#defining two matrices\nmatrix1 = np.array([[1,2,3],\n                    [4,5,6],\n                    [7,8,9]])\n\n#defining 2nd matrix\nmatrix2 = np.array ([[9,8,7],\n                     [6,5,4],\n                     [3,2,1]])\n",
      "metadata": {
        "trusted": true
      },
      "outputs": [],
      "execution_count": 8
    },
    {
      "cell_type": "code",
      "source": "#Now computing the cross product of the two matrices\ncross_product = np.cross (matrix1, matrix2)\n\n",
      "metadata": {
        "trusted": true
      },
      "outputs": [],
      "execution_count": 9
    },
    {
      "cell_type": "code",
      "source": "#printing the result \nprint (\"Cross-product of the two matrices:\")\nprint (cross_product)",
      "metadata": {
        "trusted": true
      },
      "outputs": [
        {
          "name": "stdout",
          "text": "Cross-product of the two matrices:\n[[-10  20 -10]\n [-10  20 -10]\n [-10  20 -10]]\n",
          "output_type": "stream"
        }
      ],
      "execution_count": 10
    },
    {
      "cell_type": "code",
      "source": "#task04\n#How to compute the determinant of an array using NumPy?\n#using import of numpy\nimport numpy as np\n\n",
      "metadata": {
        "trusted": true
      },
      "outputs": [],
      "execution_count": 11
    },
    {
      "cell_type": "code",
      "source": "#defining a square matrix for which we want to compute determinant\nmatrix = np.array([[1,2],\n                   [3,4]])",
      "metadata": {
        "trusted": true
      },
      "outputs": [],
      "execution_count": 12
    },
    {
      "cell_type": "code",
      "source": "#Computing the determinant of the matrix\ndeterminant_value = np.linalg.det(matrix) # here np.linalg.det is used to calculate the determinant of the specified matrix ",
      "metadata": {
        "trusted": true
      },
      "outputs": [],
      "execution_count": 13
    },
    {
      "cell_type": "code",
      "source": "#printing the result\nprint (\"Determinant of the matrix :\")\nprint (determinant_value)",
      "metadata": {
        "trusted": true
      },
      "outputs": [
        {
          "name": "stdout",
          "text": "Determinant of the matrix :\n-2.0000000000000004\n",
          "output_type": "stream"
        }
      ],
      "execution_count": 14
    },
    {
      "cell_type": "code",
      "source": "#task 05\n#How to create a 3x3x3 array with random values using NumPy?\n#imporitn numpy\nimport numpy as np\n",
      "metadata": {
        "trusted": true
      },
      "outputs": [],
      "execution_count": 15
    },
    {
      "cell_type": "code",
      "source": "#creating a 3x3x3 array with random values between 0 and 1\nrandom_3d_array = np.random.rand (3,3,3) #here np.random.rand generates a 3-dimensional array .\n",
      "metadata": {
        "trusted": true
      },
      "outputs": [],
      "execution_count": 16
    },
    {
      "cell_type": "code",
      "source": "#printing the result\nprint (\"3x3x3 array with random values :\")\nprint (random_3d_array)",
      "metadata": {
        "trusted": true
      },
      "outputs": [
        {
          "name": "stdout",
          "text": "3x3x3 array with random values :\n[[[0.34403157 0.39473111 0.26759644]\n  [0.05448884 0.7835846  0.81069672]\n  [0.05098024 0.84431485 0.21888705]]\n\n [[0.5888115  0.0353523  0.15952758]\n  [0.66428004 0.08292472 0.81076791]\n  [0.1446571  0.71751936 0.3461673 ]]\n\n [[0.47668172 0.26999456 0.59661161]\n  [0.79966023 0.41302432 0.38937151]\n  [0.54002457 0.82383708 0.87699553]]]\n",
          "output_type": "stream"
        }
      ],
      "execution_count": 17
    },
    {
      "cell_type": "code",
      "source": "#task 06\n#How to create a 5x5 array with random values and find the minimum and maximum values using NumPy?\n#importing numpy \nimport numpy as np \n",
      "metadata": {
        "trusted": true
      },
      "outputs": [],
      "execution_count": 18
    },
    {
      "cell_type": "code",
      "source": "#Creating a 5x5 array with random values betwwen 0 and 1 \nrandom_5x5_array = np.random.rand(5,5)",
      "metadata": {
        "trusted": true
      },
      "outputs": [],
      "execution_count": 19
    },
    {
      "cell_type": "code",
      "source": "#printing the result \nprint (\"5x5 array with random value :\")\n\nprint ( random_5x5_array)",
      "metadata": {
        "trusted": true
      },
      "outputs": [
        {
          "name": "stdout",
          "text": "5x5 array with random value :\n[[0.01585744 0.27332387 0.40642938 0.129403   0.84626047]\n [0.84916487 0.41243673 0.24911267 0.17962931 0.10755018]\n [0.9446868  0.96972089 0.8004717  0.30347193 0.26791881]\n [0.03702671 0.14235099 0.5745128  0.18816437 0.09009996]\n [0.03184909 0.34507687 0.74879591 0.01342841 0.82541641]]\n",
          "output_type": "stream"
        }
      ],
      "execution_count": 20
    },
    {
      "cell_type": "code",
      "source": "# but if we also want to know the min and max values in these array so we will do :\nmin_value = np.min(random_5x5_array)\nmax_value = np.max(random_5x5_array)\n",
      "metadata": {
        "trusted": true
      },
      "outputs": [],
      "execution_count": 21
    },
    {
      "cell_type": "code",
      "source": "#printing the result og min and max values \nprint (\"Minimum value:\" , min_value)\nprint (\"Maximum value:\" , max_value)",
      "metadata": {
        "trusted": true
      },
      "outputs": [
        {
          "name": "stdout",
          "text": "Minimum value: 0.01342840635239373\nMaximum value: 0.9697208862909509\n",
          "output_type": "stream"
        }
      ],
      "execution_count": 22
    },
    {
      "cell_type": "code",
      "source": "#task 07 \n#How to compute the mean, standard deviation, and variance of a given array along the second axis in NumPy?\n#importing numpy\nimport numpy as np\n\n",
      "metadata": {
        "trusted": true
      },
      "outputs": [],
      "execution_count": 23
    },
    {
      "cell_type": "code",
      "source": "#Now creating a sample 2d array \narray_2d = np.array([[1,2,3],\n                     [4,5,6],\n                     [7,8,9]])\n",
      "metadata": {
        "trusted": true
      },
      "outputs": [],
      "execution_count": 24
    },
    {
      "cell_type": "code",
      "source": "#Now computing the mean along the second axis i.e : axis =1 \nmean_values = np.mean(array_2d, axis =1)",
      "metadata": {
        "trusted": true
      },
      "outputs": [],
      "execution_count": 25
    },
    {
      "cell_type": "code",
      "source": "# computing the standard devation along the second axis \nstd_dev_values = np.std(array_2d, axis=1)",
      "metadata": {
        "trusted": true
      },
      "outputs": [],
      "execution_count": 26
    },
    {
      "cell_type": "code",
      "source": "#Now computing the varience along the second axis \nvarience_values = np.var(array_2d, axis=1)\n",
      "metadata": {
        "trusted": true
      },
      "outputs": [],
      "execution_count": 27
    },
    {
      "cell_type": "code",
      "source": "# now print the value of each \nprint (\"Mean value along the second axis :\")\nprint (mean_values)",
      "metadata": {
        "trusted": true
      },
      "outputs": [
        {
          "name": "stdout",
          "text": "Mean value along the second axis :\n[2. 5. 8.]\n",
          "output_type": "stream"
        }
      ],
      "execution_count": 28
    },
    {
      "cell_type": "code",
      "source": "print (\"Standard deviation along the second axis :\")\nprint (std_dev_values)",
      "metadata": {
        "trusted": true
      },
      "outputs": [
        {
          "name": "stdout",
          "text": "Standard deviation along the second axis :\n[0.81649658 0.81649658 0.81649658]\n",
          "output_type": "stream"
        }
      ],
      "execution_count": 29
    },
    {
      "cell_type": "code",
      "source": "print (\"Varience value along the second axis :\")\nprint (varience_values)",
      "metadata": {
        "trusted": true
      },
      "outputs": [
        {
          "name": "stdout",
          "text": "Varience value along the second axis :\n[0.66666667 0.66666667 0.66666667]\n",
          "output_type": "stream"
        }
      ],
      "execution_count": 30
    },
    {
      "cell_type": "code",
      "source": "    ######################################## THAT'S IT ]#############################################",
      "metadata": {
        "trusted": true
      },
      "outputs": [],
      "execution_count": 31
    },
    {
      "cell_type": "code",
      "source": "",
      "metadata": {
        "trusted": true
      },
      "outputs": [],
      "execution_count": null
    },
    {
      "cell_type": "code",
      "source": "",
      "metadata": {
        "trusted": true
      },
      "outputs": [],
      "execution_count": null
    },
    {
      "cell_type": "code",
      "source": "",
      "metadata": {
        "trusted": true
      },
      "outputs": [],
      "execution_count": null
    }
  ]
}